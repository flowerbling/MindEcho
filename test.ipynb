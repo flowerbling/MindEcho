{
 "cells": [
  {
   "cell_type": "code",
   "execution_count": null,
   "id": "367c5678",
   "metadata": {},
   "outputs": [
    {
     "name": "stdout",
     "output_type": "stream",
     "text": [
      "{'properties': {'id': {'title': 'Id', 'type': 'string'}, 'title': {'title': 'Title', 'type': 'string'}, 'description': {'title': 'Description', 'type': 'string'}, 'theme': {'title': 'Theme', 'type': 'string'}, 'estimated_turns': {'title': 'Estimated Turns', 'type': 'integer'}, 'required_maps': {'items': {'type': 'string'}, 'title': 'Required Maps', 'type': 'array'}, 'key_entities': {'items': {'type': 'string'}, 'title': 'Key Entities', 'type': 'array'}, 'victory_condition': {'title': 'Victory Condition', 'type': 'string'}, 'failure_conditions': {'items': {'type': 'string'}, 'title': 'Failure Conditions', 'type': 'array'}, 'story_beats': {'items': {'additionalProperties': True, 'type': 'object'}, 'title': 'Story Beats', 'type': 'array'}}, 'required': ['id', 'title', 'description', 'theme', 'estimated_turns', 'required_maps', 'key_entities', 'victory_condition', 'failure_conditions', 'story_beats'], 'title': 'MainStoryline', 'type': 'object'}\n"
     ]
    }
   ],
   "source": [
    "# 主线剧情模板\n",
    "from pydantic import BaseModel, Field\n",
    "from typing import List, Dict, Any\n",
    "from langchain.tools import tool\n",
    "class MainStoryline(BaseModel):\n",
    "    id: str = Field()\n",
    "    title: str\n",
    "    description: str\n",
    "    theme: str\n",
    "    estimated_turns: int\n",
    "    required_maps: List[str]\n",
    "    key_entities: List[str]\n",
    "    victory_condition: str\n",
    "    failure_conditions: List[str]\n",
    "    story_beats: List[Dict[str, Any]]  # 关键剧情节点\n",
    "\n",
    "print(MainStoryline.model_json_schema())\n",
    "\n"
   ]
  },
  {
   "cell_type": "code",
   "execution_count": null,
   "id": "4bf90467",
   "metadata": {},
   "outputs": [],
   "source": []
  }
 ],
 "metadata": {
  "kernelspec": {
   "display_name": "mindecho",
   "language": "python",
   "name": "python3"
  },
  "language_info": {
   "codemirror_mode": {
    "name": "ipython",
    "version": 3
   },
   "file_extension": ".py",
   "mimetype": "text/x-python",
   "name": "python",
   "nbconvert_exporter": "python",
   "pygments_lexer": "ipython3",
   "version": "3.11.13"
  }
 },
 "nbformat": 4,
 "nbformat_minor": 5
}
